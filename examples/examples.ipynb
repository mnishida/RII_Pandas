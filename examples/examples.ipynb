{
 "cells": [
  {
   "cell_type": "markdown",
   "metadata": {},
   "source": [
    "# Example"
   ]
  },
  {
   "cell_type": "code",
   "execution_count": null,
   "metadata": {
    "tags": []
   },
   "outputs": [],
   "source": [
    "import numpy as np\n",
    "import matplotlib.pyplot as plt\n",
    "from IPython.display import display\n",
    "import riip\n",
    "\n",
    "ri = riip.RiiDataFrame()\n",
    "plt.style.use('seaborn-notebook')\n",
    "plot_params = {\n",
    "    'figure.figsize': [8.0, 8.0],\n",
    "    'axes.labelsize': 'xx-large',\n",
    "    \n",
    "    'xtick.labelsize': 'xx-large',\n",
    "    'ytick.labelsize': 'xx-large',\n",
    "    'legend.fontsize': 'xx-large',\n",
    "    # 'legend.handlelength': 2.0,\n",
    "}\n",
    "plt.rcParams.update(plot_params)\n",
    "props = plt.rcParams['axes.prop_cycle']"
   ]
  },
  {
   "cell_type": "markdown",
   "metadata": {},
   "source": [
    "## Ag"
   ]
  },
  {
   "cell_type": "code",
   "execution_count": null,
   "metadata": {},
   "outputs": [],
   "source": [
    "ri.search('Ag')"
   ]
  },
  {
   "cell_type": "code",
   "execution_count": null,
   "metadata": {},
   "outputs": [],
   "source": [
    "Ag_id_list = [0, 1779]\n",
    "ri.show(Ag_id_list)"
   ]
  },
  {
   "cell_type": "markdown",
   "metadata": {},
   "source": [
    "### Dielectric function"
   ]
  },
  {
   "cell_type": "code",
   "execution_count": null,
   "metadata": {},
   "outputs": [],
   "source": [
    "wls = np.linspace(0.4, 1.0, 200)\n",
    "for idx in Ag_id_list:\n",
    "    Ag = ri.material(idx)\n",
    "    Ag.plot(wls, 'eps', alpha=0.6)\n",
    "plt.ylim(-50, 5)\n",
    "plt.show()"
   ]
  },
  {
   "cell_type": "markdown",
   "metadata": {},
   "source": [
    "## Au"
   ]
  },
  {
   "cell_type": "code",
   "execution_count": null,
   "metadata": {},
   "outputs": [],
   "source": [
    "ri.search('Au')"
   ]
  },
  {
   "cell_type": "code",
   "execution_count": null,
   "metadata": {},
   "outputs": [],
   "source": [
    "Au_id_list = [50, 51, 1783, 1784, 1804]\n",
    "ri.show(Au_id_list)"
   ]
  },
  {
   "cell_type": "markdown",
   "metadata": {},
   "source": [
    "### Dielectric function"
   ]
  },
  {
   "cell_type": "code",
   "execution_count": null,
   "metadata": {},
   "outputs": [],
   "source": [
    "wls = np.linspace(0.5, 1.0, 200)\n",
    "for idx in Au_id_list:\n",
    "    Au = ri.material(idx)\n",
    "    Au.plot(wls, 'eps', alpha=0.6)\n",
    "plt.show()"
   ]
  },
  {
   "cell_type": "markdown",
   "metadata": {},
   "source": [
    "## Al"
   ]
  },
  {
   "cell_type": "code",
   "execution_count": null,
   "metadata": {},
   "outputs": [],
   "source": [
    "ri.search('Al')"
   ]
  },
  {
   "cell_type": "code",
   "execution_count": null,
   "metadata": {},
   "outputs": [],
   "source": [
    "Al_id_list = [10, 11, 1781, 1794]\n",
    "ri.show(Al_id_list)"
   ]
  },
  {
   "cell_type": "code",
   "execution_count": null,
   "metadata": {},
   "outputs": [],
   "source": [
    "wls = np.linspace(0.3, 1.0, 200)\n",
    "for idx in Al_id_list:\n",
    "    Al = ri.material(idx)\n",
    "    Al.plot(wls, 'eps', alpha=0.6)\n",
    "plt.show()"
   ]
  },
  {
   "cell_type": "markdown",
   "metadata": {},
   "source": [
    "## Water"
   ]
  },
  {
   "cell_type": "code",
   "execution_count": null,
   "metadata": {},
   "outputs": [],
   "source": [
    "ri.search('H2O')"
   ]
  },
  {
   "cell_type": "markdown",
   "metadata": {},
   "source": [
    "### Wavelength dependence of refractive index"
   ]
  },
  {
   "cell_type": "code",
   "execution_count": null,
   "metadata": {},
   "outputs": [],
   "source": [
    "water_id_list = [318, 319, 320, 321]\n",
    "alpha = 0.6\n",
    "wls = np.linspace(0.38, 0.75, 200)\n",
    "waters = [ri.material(idx) for idx in water_id_list]\n",
    "for water in waters:\n",
    "    water.plot(wls, 'n')\n",
    "plt.ylim(1.325, 1.35)\n",
    "plt.show()"
   ]
  },
  {
   "cell_type": "markdown",
   "metadata": {},
   "source": [
    "### Averaged refractive index"
   ]
  },
  {
   "cell_type": "code",
   "execution_count": null,
   "metadata": {},
   "outputs": [],
   "source": [
    "wls = np.linspace(0.38, 0.75, 200)\n",
    "water = ri.material(318)\n",
    "np.average(water.n(wls))"
   ]
  },
  {
   "cell_type": "markdown",
   "metadata": {},
   "source": [
    "### Extinction coefficient"
   ]
  },
  {
   "cell_type": "code",
   "execution_count": null,
   "metadata": {},
   "outputs": [],
   "source": [
    "water = ri.material(283)\n",
    "print(water.ID)\n",
    "print(water.catalog)\n",
    "print(display(ri.show([water.ID])))\n",
    "wls = np.linspace(0.5, 1.6, 200)\n",
    "water.plot(wls, 'k', alpha=0.6)\n",
    "plt.show()"
   ]
  },
  {
   "cell_type": "code",
   "execution_count": null,
   "metadata": {},
   "outputs": [],
   "source": [
    "id_list = ri.select({'wl_min': 0.39, 'wl_max': 0.41, 'n_min': 2.5, 'k_max': 0.1})\n",
    "print(len(id_list))\n",
    "ri.show(id_list)"
   ]
  },
  {
   "cell_type": "code",
   "execution_count": null,
   "metadata": {},
   "outputs": [],
   "source": [
    "gd = ri.load_grid_data()\n",
    "id_list = gd[(gd['wl'] >= 0.39) & (gd['wl']<=0.41) &\n",
    "   (gd['n']>=2.5) & ((gd['k']<=0.1) | (gd['k']!=gd['k']))].index.unique()\n",
    "print(len(id_list))\n",
    "ri.show(id_list)"
   ]
  },
  {
   "cell_type": "code",
   "execution_count": null,
   "metadata": {},
   "outputs": [],
   "source": [
    "ri.search('KNbO3')"
   ]
  },
  {
   "cell_type": "code",
   "execution_count": null,
   "metadata": {},
   "outputs": [],
   "source": [
    "ri = riip.RiiDataFrame()\n",
    "KNbO3_alpha = ri.material(281)\n",
    "KNbO3_beta = ri.material(282)\n",
    "KNbO3_gamma = ri.material(283)\n",
    "print(display(ri.show([KNbO3_alpha.ID, KNbO3_beta.ID, KNbO3_gamma.ID])))\n",
    "wls = np.linspace(0.5, 1.6, 200)\n",
    "KNbO3_alpha.plot(wls, 'n', '-')\n",
    "KNbO3_beta.plot(wls, 'n', '-')\n",
    "KNbO3_gamma.plot(wls, 'n', '-')\n",
    "plt.show()"
   ]
  },
  {
   "cell_type": "markdown",
   "metadata": {},
   "source": [
    "## Methanol"
   ]
  },
  {
   "cell_type": "code",
   "execution_count": null,
   "metadata": {},
   "outputs": [],
   "source": [
    "ri.search('CH3OH')"
   ]
  },
  {
   "cell_type": "code",
   "execution_count": null,
   "metadata": {},
   "outputs": [],
   "source": [
    "ri.search('Methanol')"
   ]
  },
  {
   "cell_type": "code",
   "execution_count": null,
   "metadata": {},
   "outputs": [],
   "source": [
    "ri.search('methanol')"
   ]
  },
  {
   "cell_type": "code",
   "execution_count": null,
   "metadata": {
    "jupyter": {
     "outputs_hidden": true
    }
   },
   "outputs": [],
   "source": []
  }
 ],
 "metadata": {
  "kernelspec": {
   "display_name": "py39",
   "language": "python",
   "name": "photonics"
  },
  "language_info": {
   "codemirror_mode": {
    "name": "ipython",
    "version": 3
   },
   "file_extension": ".py",
   "mimetype": "text/x-python",
   "name": "python",
   "nbconvert_exporter": "python",
   "pygments_lexer": "ipython3",
   "version": "3.9.5"
  }
 },
 "nbformat": 4,
 "nbformat_minor": 4
}
