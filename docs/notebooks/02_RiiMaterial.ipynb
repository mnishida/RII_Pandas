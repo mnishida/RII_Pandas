{
 "cells": [
  {
   "cell_type": "markdown",
   "source": [
    "# RiiMaterial Class:\n",
    "```\n",
    "RiiMaterial(id: int, catalog: DataFrame, raw_data: DataFrame, bound_check: bool = True)\n",
    "```\n",
    "This class provides the dielectric function for the material specified by given id. If the argument __bound_check__ is True, ValueError is raised when the wavelength exeeds the domain of experimental data."
   ],
   "metadata": {}
  },
  {
   "cell_type": "code",
   "execution_count": 1,
   "source": [
    "import riip\n",
    "ri = riip.RiiDataFrame()\n",
    "ID = 428\n",
    "water = riip.RiiMaterial(ID, ri.catalog, ri.raw_data)\n",
    "print(f\"{water.catalog['book']} {water.catalog['page']}\")\n",
    "print(f\"{water.catalog['wl_min']} <= λ <= {water.catalog['wl_max']}\")"
   ],
   "outputs": [
    {
     "output_type": "stream",
     "name": "stdout",
     "text": [
      "H2O Kedenburg\n",
      "0.5 <= λ <= 1.6\n"
     ]
    }
   ],
   "metadata": {}
  },
  {
   "cell_type": "markdown",
   "source": [
    "## Reflactive Index __n__\n",
    "```\n",
    "n(wl: Union[float, complex, numpy.ndarray]) -> Union[float, numpy.ndarray]\n",
    "```\n",
    "## Extinction Coefficient __k__\n",
    "```\n",
    "k(wl: Union[float, complex, numpy.ndarray]) -> Union[float, numpy.ndarray]\n",
    "```\n",
    "## Dielectric Function __eps__\n",
    "```\n",
    "eps(wl: Union[float, complex, numpy.ndarray]) -> Union[complex, numpy.ndarray]\n",
    "```\n",
    "Wavelengths __wl__ can be given as a single complex value or an array of complex values."
   ],
   "metadata": {}
  },
  {
   "cell_type": "code",
   "execution_count": 2,
   "source": [
    "wl = 1.0\n",
    "n = water.n(wl)\n",
    "k = water.k(wl)\n",
    "eps = water.eps(wl)\n",
    "print(f\"At λ={wl}μm:\")\n",
    "print(f\"  n={n}\")\n",
    "print(f\"  k={k}\")\n",
    "print(f\"  ε={eps}\")"
   ],
   "outputs": [
    {
     "output_type": "stream",
     "name": "stdout",
     "text": [
      "At λ=1.0μm:\n",
      "  n=1.3248733548067675\n",
      "  k=3.19106e-06\n",
      "  ε=(1.755289406266756+8.455500735179367e-06j)\n"
     ]
    }
   ],
   "metadata": {}
  },
  {
   "cell_type": "code",
   "execution_count": 3,
   "source": [
    "import numpy as np\n",
    "wls = np.linspace(0.5, 1.6)\n",
    "water.eps(wls)"
   ],
   "outputs": [
    {
     "output_type": "execute_result",
     "data": {
      "text/plain": [
       "array([1.78768541+5.06456045e-09j, 1.78467437+7.15205496e-09j,\n",
       "       1.78200425+8.94726970e-09j, 1.77961713+1.08666065e-08j,\n",
       "       1.77746656+2.03456790e-08j, 1.77551486+3.91797098e-08j,\n",
       "       1.77373123+4.46648626e-08j, 1.77209021+5.55516860e-08j,\n",
       "       1.77057063+6.46736868e-08j, 1.76915476+9.55086451e-08j,\n",
       "       1.7678276 +2.26809001e-07j, 1.76657643+4.35996520e-07j,\n",
       "       1.76539035+4.41911135e-07j, 1.76425999+3.88897897e-07j,\n",
       "       1.76317722+3.67527138e-07j, 1.76213497+6.57038199e-07j,\n",
       "       1.76112705+7.97313691e-07j, 1.76014799+9.89984646e-07j,\n",
       "       1.75919296+1.26258703e-06j, 1.75825763+2.11417683e-06j,\n",
       "       1.75733815+5.56077734e-06j, 1.75643103+9.70066579e-06j,\n",
       "       1.75553309+9.02235619e-06j, 1.75464145+6.69285893e-06j,\n",
       "       1.75375346+4.42035410e-06j, 1.75286666+3.28212930e-06j,\n",
       "       1.75197876+3.47790570e-06j, 1.75108763+4.87739542e-06j,\n",
       "       1.75019124+7.76700844e-06j, 1.74928768+2.35293686e-05j,\n",
       "       1.74837512+2.93316807e-05j, 1.74745178+3.17025832e-05j,\n",
       "       1.74651595+3.12640095e-05j, 1.74556597+2.98344837e-05j,\n",
       "       1.74460019+2.88431465e-05j, 1.74361698+3.09576021e-05j,\n",
       "       1.74261474+4.08395234e-05j, 1.74159184+6.27229584e-05j,\n",
       "       1.74054666+9.18361684e-05j, 1.73947755+1.38810092e-04j,\n",
       "       1.73838282+4.13449619e-04j, 1.73726075+7.40901400e-04j,\n",
       "       1.73610964+8.38131246e-04j, 1.73492768+8.43985181e-04j,\n",
       "       1.733713  +7.56338524e-04j, 1.73246365+6.09033937e-04j,\n",
       "       1.73117757+4.73824016e-04j, 1.72985267+3.73820241e-04j,\n",
       "       1.72848673+2.96315667e-04j, 1.72707742+2.57348869e-04j])"
      ]
     },
     "metadata": {},
     "execution_count": 3
    }
   ],
   "metadata": {}
  },
  {
   "cell_type": "markdown",
   "source": [
    "## Bound_check\n",
    "By default, __bound_check__ is set to __True__, so a ValueError is raised if the given range of wavelength exeeds the domain of experimental data."
   ],
   "metadata": {}
  },
  {
   "cell_type": "code",
   "execution_count": 4,
   "source": [
    "wls = np.linspace(1.0, 2.0)  # exeeds the domain of experimental data [wl_min, wl_max]\n",
    "water.eps(wls)"
   ],
   "outputs": [
    {
     "output_type": "error",
     "ename": "ValueError",
     "evalue": "Wavelength [1.0 2.0] is out of bounds [0.5 1.6][um]",
     "traceback": [
      "\u001b[1;31m---------------------------------------------------------------------------\u001b[0m",
      "\u001b[1;31mValueError\u001b[0m                                Traceback (most recent call last)",
      "\u001b[1;32m/tmp/ipykernel_189284/2299182986.py\u001b[0m in \u001b[0;36m<module>\u001b[1;34m\u001b[0m\n\u001b[0;32m      1\u001b[0m \u001b[0mwls\u001b[0m \u001b[1;33m=\u001b[0m \u001b[0mnp\u001b[0m\u001b[1;33m.\u001b[0m\u001b[0mlinspace\u001b[0m\u001b[1;33m(\u001b[0m\u001b[1;36m1.0\u001b[0m\u001b[1;33m,\u001b[0m \u001b[1;36m2.0\u001b[0m\u001b[1;33m)\u001b[0m  \u001b[1;31m# exeeds the domain of experimental data [wl_min, wl_max]\u001b[0m\u001b[1;33m\u001b[0m\u001b[1;33m\u001b[0m\u001b[0m\n\u001b[1;32m----> 2\u001b[1;33m \u001b[0mwater\u001b[0m\u001b[1;33m.\u001b[0m\u001b[0meps\u001b[0m\u001b[1;33m(\u001b[0m\u001b[0mwls\u001b[0m\u001b[1;33m)\u001b[0m\u001b[1;33m\u001b[0m\u001b[1;33m\u001b[0m\u001b[0m\n\u001b[0m",
      "\u001b[1;32m~/anaconda3/envs/riip/lib/python3.8/site-packages/riip/material.py\u001b[0m in \u001b[0;36meps\u001b[1;34m(self, wl)\u001b[0m\n\u001b[0;32m    244\u001b[0m             \u001b[1;32mreturn\u001b[0m \u001b[0mself\u001b[0m\u001b[1;33m.\u001b[0m\u001b[0mformulas\u001b[0m\u001b[1;33m[\u001b[0m\u001b[0mformula\u001b[0m\u001b[1;33m]\u001b[0m\u001b[1;33m(\u001b[0m\u001b[0mnp\u001b[0m\u001b[1;33m.\u001b[0m\u001b[0masarray\u001b[0m\u001b[1;33m(\u001b[0m\u001b[0mwl\u001b[0m\u001b[1;33m)\u001b[0m\u001b[1;33m)\u001b[0m\u001b[1;33m\u001b[0m\u001b[1;33m\u001b[0m\u001b[0m\n\u001b[0;32m    245\u001b[0m         \u001b[1;32melse\u001b[0m\u001b[1;33m:\u001b[0m\u001b[1;33m\u001b[0m\u001b[1;33m\u001b[0m\u001b[0m\n\u001b[1;32m--> 246\u001b[1;33m             \u001b[0mn\u001b[0m \u001b[1;33m=\u001b[0m \u001b[0mself\u001b[0m\u001b[1;33m.\u001b[0m\u001b[0mn\u001b[0m\u001b[1;33m(\u001b[0m\u001b[0mwl\u001b[0m\u001b[1;33m)\u001b[0m\u001b[1;33m\u001b[0m\u001b[1;33m\u001b[0m\u001b[0m\n\u001b[0m\u001b[0;32m    247\u001b[0m             \u001b[0mk\u001b[0m \u001b[1;33m=\u001b[0m \u001b[0mself\u001b[0m\u001b[1;33m.\u001b[0m\u001b[0mk\u001b[0m\u001b[1;33m(\u001b[0m\u001b[0mwl\u001b[0m\u001b[1;33m)\u001b[0m\u001b[1;33m\u001b[0m\u001b[1;33m\u001b[0m\u001b[0m\n\u001b[0;32m    248\u001b[0m             \u001b[0meps\u001b[0m \u001b[1;33m=\u001b[0m \u001b[0mnp\u001b[0m\u001b[1;33m.\u001b[0m\u001b[0mzeros_like\u001b[0m\u001b[1;33m(\u001b[0m\u001b[0mwl\u001b[0m\u001b[1;33m,\u001b[0m \u001b[0mdtype\u001b[0m\u001b[1;33m=\u001b[0m\u001b[0mcomplex\u001b[0m\u001b[1;33m)\u001b[0m\u001b[1;33m\u001b[0m\u001b[1;33m\u001b[0m\u001b[0m\n",
      "\u001b[1;32m~/anaconda3/envs/riip/lib/python3.8/site-packages/riip/material.py\u001b[0m in \u001b[0;36mn\u001b[1;34m(self, wl)\u001b[0m\n\u001b[0;32m    213\u001b[0m             \u001b[0mwl\u001b[0m \u001b[1;33m(\u001b[0m\u001b[0mUnion\u001b[0m\u001b[1;33m[\u001b[0m\u001b[0mfloat\u001b[0m\u001b[1;33m,\u001b[0m \u001b[0mcomplex\u001b[0m\u001b[1;33m,\u001b[0m \u001b[0mSequence\u001b[0m\u001b[1;33m,\u001b[0m \u001b[0mnp\u001b[0m\u001b[1;33m.\u001b[0m\u001b[0mndarray\u001b[0m\u001b[1;33m]\u001b[0m\u001b[1;33m)\u001b[0m\u001b[1;33m:\u001b[0m \u001b[0mWavelength\u001b[0m \u001b[1;33m[\u001b[0m\u001b[0mμm\u001b[0m\u001b[1;33m]\u001b[0m\u001b[1;33m.\u001b[0m\u001b[1;33m\u001b[0m\u001b[1;33m\u001b[0m\u001b[0m\n\u001b[0;32m    214\u001b[0m         \"\"\"\n\u001b[1;32m--> 215\u001b[1;33m         \u001b[0mself\u001b[0m\u001b[1;33m.\u001b[0m\u001b[0m_bound_check\u001b[0m\u001b[1;33m(\u001b[0m\u001b[0mwl\u001b[0m\u001b[1;33m,\u001b[0m \u001b[1;34m\"n\"\u001b[0m\u001b[1;33m)\u001b[0m\u001b[1;33m\u001b[0m\u001b[1;33m\u001b[0m\u001b[0m\n\u001b[0m\u001b[0;32m    216\u001b[0m         \u001b[1;32mif\u001b[0m \u001b[0misinstance\u001b[0m\u001b[1;33m(\u001b[0m\u001b[0mwl\u001b[0m\u001b[1;33m,\u001b[0m \u001b[1;33m(\u001b[0m\u001b[0mSequence\u001b[0m\u001b[1;33m,\u001b[0m \u001b[0mnp\u001b[0m\u001b[1;33m.\u001b[0m\u001b[0mndarray\u001b[0m\u001b[1;33m)\u001b[0m\u001b[1;33m)\u001b[0m\u001b[1;33m:\u001b[0m\u001b[1;33m\u001b[0m\u001b[1;33m\u001b[0m\u001b[0m\n\u001b[0;32m    217\u001b[0m             \u001b[1;32mreturn\u001b[0m \u001b[0mself\u001b[0m\u001b[1;33m.\u001b[0m\u001b[0m__n\u001b[0m\u001b[1;33m(\u001b[0m\u001b[0mnp\u001b[0m\u001b[1;33m.\u001b[0m\u001b[0masarray\u001b[0m\u001b[1;33m(\u001b[0m\u001b[0mwl\u001b[0m\u001b[1;33m)\u001b[0m\u001b[1;33m.\u001b[0m\u001b[0mreal\u001b[0m\u001b[1;33m)\u001b[0m\u001b[1;33m\u001b[0m\u001b[1;33m\u001b[0m\u001b[0m\n",
      "\u001b[1;32m~/anaconda3/envs/riip/lib/python3.8/site-packages/riip/material.py\u001b[0m in \u001b[0;36m_bound_check\u001b[1;34m(self, x, nk)\u001b[0m\n\u001b[0;32m    149\u001b[0m             \u001b[0mx_min\u001b[0m \u001b[1;33m=\u001b[0m \u001b[0mx_max\u001b[0m \u001b[1;33m=\u001b[0m \u001b[0mx\u001b[0m\u001b[1;33m.\u001b[0m\u001b[0mreal\u001b[0m\u001b[1;33m\u001b[0m\u001b[1;33m\u001b[0m\u001b[0m\n\u001b[0;32m    150\u001b[0m         \u001b[1;32mif\u001b[0m \u001b[0mx_min\u001b[0m \u001b[1;33m<\u001b[0m \u001b[0mwl_min\u001b[0m \u001b[1;32mor\u001b[0m \u001b[0mx_max\u001b[0m \u001b[1;33m>\u001b[0m \u001b[0mwl_max\u001b[0m\u001b[1;33m:\u001b[0m\u001b[1;33m\u001b[0m\u001b[1;33m\u001b[0m\u001b[0m\n\u001b[1;32m--> 151\u001b[1;33m             raise ValueError(\n\u001b[0m\u001b[0;32m    152\u001b[0m                 \u001b[1;34mf\"Wavelength [{x_min} {x_max}] is out of bounds [{wl_min} {wl_max}][um]\"\u001b[0m\u001b[1;33m\u001b[0m\u001b[1;33m\u001b[0m\u001b[0m\n\u001b[0;32m    153\u001b[0m             )\n",
      "\u001b[1;31mValueError\u001b[0m: Wavelength [1.0 2.0] is out of bounds [0.5 1.6][um]"
     ]
    }
   ],
   "metadata": {}
  },
  {
   "cell_type": "markdown",
   "source": [
    "If the instance is created with _bound_check_=False, the dispersion formula is applied beyond the scope of experimental data."
   ],
   "metadata": {}
  },
  {
   "cell_type": "code",
   "execution_count": 5,
   "source": [
    "wls = np.linspace(1.0, 2.0)  # exeeds the domain of experimental data [wl_min, wl_max]\n",
    "water = ri.material(ID, bound_check=False)\n",
    "water.eps(wls)"
   ],
   "outputs": [
    {
     "output_type": "execute_result",
     "data": {
      "text/plain": [
       "array([1.75528941+8.45550074e-06j, 1.7544798 +6.22861833e-06j,\n",
       "       1.75367283+4.26777142e-06j, 1.75286666+3.28212930e-06j,\n",
       "       1.75205958+3.40958327e-06j, 1.75124999+4.57539314e-06j,\n",
       "       1.75043634+6.43219717e-06j, 1.7496172 +1.73159504e-05j,\n",
       "       1.74879115+2.79107526e-05j, 1.74795686+3.03863024e-05j,\n",
       "       1.74711301+3.16625864e-05j, 1.74625834+3.09037928e-05j,\n",
       "       1.7453916 +2.96001344e-05j, 1.74451155+2.87261241e-05j,\n",
       "       1.74361698+3.09576021e-05j, 1.74270668+3.94605082e-05j,\n",
       "       1.74177943+5.74328831e-05j, 1.74083401+8.45012883e-05j,\n",
       "       1.73986919+1.12277638e-04j, 1.73888371+2.38893947e-04j,\n",
       "       1.73787627+5.97354544e-04j, 1.73684562+7.93195467e-04j,\n",
       "       1.73579043+8.44647738e-04j, 1.73470932+8.36225191e-04j,\n",
       "       1.73360089+7.44545306e-04j, 1.73246365+6.09033937e-04j,\n",
       "       1.73129606+4.84067121e-04j, 1.73009655+3.87576718e-04j,\n",
       "       1.72886346+3.10291027e-04j, 1.72759506+2.69631077e-04j,\n",
       "       1.72628955+2.42340278e-04j, 1.72494502+2.23707667e-04j,\n",
       "       1.72355948+2.11575063e-04j, 1.72213081+2.06993662e-04j,\n",
       "       1.72065679+2.04434203e-04j, 1.71913506+2.14435156e-04j,\n",
       "       1.71756312+2.22796007e-04j, 1.71593833+2.18764138e-04j,\n",
       "       1.71425786+2.09332661e-04j, 1.71251873+1.99906850e-04j,\n",
       "       1.71071773+1.90487007e-04j, 1.70885145+1.81073459e-04j,\n",
       "       1.70691624+1.71666558e-04j, 1.70490818+1.62266685e-04j,\n",
       "       1.70282308+1.52874248e-04j, 1.70065642+1.43489694e-04j,\n",
       "       1.69840336+1.34113502e-04j, 1.69605866+1.24746193e-04j,\n",
       "       1.69361666+1.15388332e-04j, 1.69107126+1.06040533e-04j])"
      ]
     },
     "metadata": {},
     "execution_count": 5
    }
   ],
   "metadata": {}
  },
  {
   "cell_type": "code",
   "execution_count": 6,
   "source": [
    "import matplotlib.pyplot as plt\n",
    "plt.style.use('seaborn-notebook')\n",
    "plot_params = {\n",
    "    'figure.figsize': [6.0, 6.0],\n",
    "    'axes.labelsize': 'xx-large',\n",
    "    'xtick.labelsize': 'x-large',\n",
    "    'ytick.labelsize': 'x-large',\n",
    "    'legend.fontsize': 'x-large',\n",
    "}\n",
    "plt.rcParams.update(plot_params)"
   ],
   "outputs": [],
   "metadata": {}
  }
 ],
 "metadata": {
  "interpreter": {
   "hash": "75462e0b4f6843078abe9aa8029f284d492ae768f563621c558cda33dd55dd3c"
  },
  "kernelspec": {
   "name": "python3",
   "display_name": "Python 3.8.11 64-bit ('riip': conda)"
  },
  "language_info": {
   "codemirror_mode": {
    "name": "ipython",
    "version": 3
   },
   "file_extension": ".py",
   "mimetype": "text/x-python",
   "name": "python",
   "nbconvert_exporter": "python",
   "pygments_lexer": "ipython3",
   "version": "3.8.11"
  }
 },
 "nbformat": 4,
 "nbformat_minor": 2
}
