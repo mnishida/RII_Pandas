{
 "cells": [
  {
   "cell_type": "markdown",
   "source": [
    "# Material\n",
    "```\n",
    "Material(params: Dict)\n",
    "```\n",
    "__params__ can includes the following parameters,\n",
    "* 'book': book value in catalog of RiiDataFrame. (str)\n",
    "* 'page': page value in catalog of RiiDataFrame. (str)\n",
    "* 'RI': Constant refractive index. (complex)\n",
    "* 'e': Constant permittivity. (complex)\n",
    "* 'bound_check': True if bound check should be done. Defaults to True. (bool)\n",
    "* 'im_factor': A magnification factor multiplied to the imaginary part of permittivity. Defaults to 1.0. (float)\n",
    "\n",
    "This class extends the functionality of RiiMaterial in the following points:\n",
    "* It is possible to define dielectric materials that has constant permittivity.\n",
    "* Imaginary part of dielectric function can be magnified using 'im_factor' parameter.\n",
    "* Material is callable with a single value argument, angular frequency argument ω. The evaluation process is omitted if it is called with the same argument.\n",
    "\n",
    "However, n, k and eps methos of this class are not numpy.ufunc. You can pass them only a single value."
   ],
   "metadata": {}
  },
  {
   "cell_type": "markdown",
   "source": [
    "## Water with constant RI"
   ],
   "metadata": {}
  },
  {
   "cell_type": "code",
   "execution_count": 1,
   "source": [
    "import numpy as np\n",
    "from riip import Material\n",
    "water_const = Material({'RI': 1.333})\n",
    "wl = [0.5, 1.0, 1.5]\n",
    "n = water_const.n(wl)\n",
    "k = water_const.k(wl)\n",
    "eps = water_const.eps(wl)\n",
    "print(f\"At λ={wl}μm:\")\n",
    "print(f\"  n={n}\")\n",
    "print(f\"  k={k}\")\n",
    "print(f\"  ε={eps}\")"
   ],
   "outputs": [
    {
     "output_type": "stream",
     "name": "stdout",
     "text": [
      "At λ=[0.5, 1.0, 1.5]μm:\n",
      "  n=[1.333 1.333 1.333]\n",
      "  k=[0. 0. 0.]\n",
      "  ε=[1.776889+0.j 1.776889+0.j 1.776889+0.j]\n"
     ]
    }
   ],
   "metadata": {}
  },
  {
   "cell_type": "markdown",
   "source": [
    "## A definition of water in RIID"
   ],
   "metadata": {}
  },
  {
   "cell_type": "code",
   "execution_count": 2,
   "source": [
    "water = Material({\"book\": \"H2O\", \"page\": \"Kedenburg\"})\n",
    "wl = [0.5, 1.0, 1.5]\n",
    "n = water.n(wl)\n",
    "k = water.k(wl)\n",
    "eps = water.eps(wl)\n",
    "print(f\"At λ={wl} μm:\")\n",
    "print(f\"  n={n}\")\n",
    "print(f\"  k={k}\")\n",
    "print(f\"  ε={eps}\")"
   ],
   "outputs": [
    {
     "output_type": "stream",
     "name": "stdout",
     "text": [
      "At λ=[0.5, 1.0, 1.5] μm:\n",
      "  n=[1.33704353 1.32487335 1.31644826]\n",
      "  k=[1.89394e-09 3.19106e-06 2.56637e-04]\n",
      "  ε=[1.78768541+5.06456045e-09j 1.75528941+8.45550074e-06j\n",
      " 1.73303596+6.75698666e-04j]\n"
     ]
    }
   ],
   "metadata": {}
  },
  {
   "cell_type": "markdown",
   "source": [
    "## Plot them:"
   ],
   "metadata": {}
  },
  {
   "cell_type": "code",
   "execution_count": 3,
   "source": [
    "wls = np.linspace(0.6, 1.0)\n",
    "water_const.plot(wls)\n",
    "water.plot(wls)\n"
   ],
   "outputs": [
    {
     "output_type": "display_data",
     "data": {
      "image/png": "[encoded data removed]",
      "text/plain": [
       "<Figure size 432x288 with 1 Axes>"
      ]
     },
     "metadata": {
      "needs_background": "light"
     }
    }
   ],
   "metadata": {}
  },
  {
   "cell_type": "markdown",
   "source": [
    "## Material as a function\n",
    "```\n",
    "Material__call__(w: float | complex) -> complex\n",
    "```\n",
    "* w (float | complex): A float indicating the angular frequency\n",
    "\n",
    "It returns the complex relative permittivity at given __angular frequency w__.\n",
    "We use a unit system where the speed of light in vacuum c is 1 and the unit of length is μm.\n",
    "So w is equal to the vacuum wavenumber ω/c [rad/μm]).\n",
    "\n",
    "It is much faster than __eps__ method if the same argument is passed."
   ],
   "metadata": {}
  },
  {
   "cell_type": "code",
   "execution_count": 4,
   "source": [
    "gold = Material({'book': 'Au', 'page': 'Stewart-DLF'})\n",
    "wl = 1.0\n",
    "w = 2 * np.pi / wl"
   ],
   "outputs": [],
   "metadata": {}
  },
  {
   "cell_type": "code",
   "execution_count": 5,
   "source": [
    "%%timeit\n",
    "for i in range(1000):\n",
    "    gold(w)"
   ],
   "outputs": [
    {
     "output_type": "stream",
     "name": "stdout",
     "text": [
      "254 µs ± 4.5 µs per loop (mean ± std. dev. of 7 runs, 1000 loops each)\n"
     ]
    }
   ],
   "metadata": {}
  },
  {
   "cell_type": "code",
   "execution_count": 6,
   "source": [
    "%%timeit\n",
    "for i in range(1000):\n",
    "    gold.eps(wl)"
   ],
   "outputs": [
    {
     "output_type": "stream",
     "name": "stdout",
     "text": [
      "181 ms ± 12.9 ms per loop (mean ± std. dev. of 7 runs, 10 loops each)\n"
     ]
    }
   ],
   "metadata": {}
  },
  {
   "cell_type": "markdown",
   "source": [
    "## It's __not__ a numpy.ufunc"
   ],
   "metadata": {}
  },
  {
   "cell_type": "code",
   "execution_count": 7,
   "source": [
    "try:\n",
    "    gold(np.array([w, w / 2]))\n",
    "except ValueError as e:\n",
    "    print(\"ValueError: \", e)"
   ],
   "outputs": [
    {
     "output_type": "stream",
     "name": "stdout",
     "text": [
      "ValueError:  The truth value of an array with more than one element is ambiguous. Use a.any() or a.all()\n"
     ]
    }
   ],
   "metadata": {}
  },
  {
   "cell_type": "markdown",
   "source": [
    "## im_factor"
   ],
   "metadata": {}
  },
  {
   "cell_type": "code",
   "execution_count": 8,
   "source": [
    "gold_low_loss = Material({'book': 'Au', 'page': 'Stewart-DLF', 'im_factor': 0.1})\n",
    "print(\"If im_factor=1.0: Im(ε)=\", gold(6.28).imag)\n",
    "print(\"If im_factor=0.1: Im(ε)=\", gold_low_loss(6.28).imag)\n",
    "\n",
    "print(\"Real parts are the same\")\n",
    "print(gold(6.28).real, gold_low_loss(6.28).real)"
   ],
   "outputs": [
    {
     "output_type": "stream",
     "name": "stdout",
     "text": [
      "If im_factor=1.0: Im(ε)= 3.3309657708104417\n",
      "If im_factor=0.1: Im(ε)= 0.3330965770810442\n",
      "Real parts are the same\n",
      "-46.609022195753646 -46.609022195753646\n"
     ]
    }
   ],
   "metadata": {}
  },
  {
   "cell_type": "markdown",
   "source": [],
   "metadata": {}
  }
 ],
 "metadata": {
  "interpreter": {
   "hash": "75462e0b4f6843078abe9aa8029f284d492ae768f563621c558cda33dd55dd3c"
  },
  "kernelspec": {
   "name": "python3",
   "display_name": "Python 3.8.11 64-bit ('riip': conda)"
  },
  "language_info": {
   "codemirror_mode": {
    "name": "ipython",
    "version": 3
   },
   "file_extension": ".py",
   "mimetype": "text/x-python",
   "name": "python",
   "nbconvert_exporter": "python",
   "pygments_lexer": "ipython3",
   "version": "3.8.11"
  }
 },
 "nbformat": 4,
 "nbformat_minor": 2
}
