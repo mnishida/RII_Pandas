{
 "cells": [
  {
   "cell_type": "markdown",
   "source": [
    "# Material\n",
    "```\n",
    "Material(params: Dict, rid: RiiDataFrame)\n",
    "```\n",
    "\n",
    "This class provides the dielectric function for the material specified by given id. If the argument __bound_check__ is True, ValueError is raised when the wavelength exeeds the domain of experimental data.\n",
    "\n",
    "__params__ can includes the following parameters,\n",
    "* 'PEC' (bool): True if you want to create perfect electric conductor. Defaults to False.\n",
    "* 'id' (int): ID number.\n",
    "* 'book' (str): book value in catalog of RiiDataFrame.\n",
    "* 'page' (str): page value in catalog of RiiDataFrame.\n",
    "* 'RI' (complex): Constant refractive index.\n",
    "* 'e' (complex): Constant permittivity.\n",
    "* 'bound_check' (bool): True if bound check should be done. Defaults to True.\n",
    "* 'im_factor' (floot): A magnification factor multiplied to the imaginary part of permittivity. Defaults to 1.0.\n",
    "\n",
    "This class extends the functionality of refractiveindex.info database:\n",
    "* It is possible to define dielectric materials that has constant permittivity.\n",
    "* Imaginary part of dielectric function can be magnified using 'im_factor' parameter.\n",
    "* Perfect Electric Conductor is defined as an artificial metal labeled \"PEC\", which has negative large permittivity (-1e8).\n",
    "* Material is callable with a single value argument, angular frequency argument ω. The evaluation process is omitted if it is called with the same argument.\n",
    "\n",
    "However, n, k and eps methos of this class are not numpy.ufunc. You can pass them only a single value."
   ],
   "metadata": {}
  },
  {
   "cell_type": "code",
   "execution_count": 1,
   "source": [
    "import riip\n",
    "rid = riip.RiiDataFrame()\n",
    "water = riip.Material({'id': 428}, rid)\n",
    "print(f\"{water.catalog['book']} {water.catalog['page']}\")\n",
    "print(f\"{water.catalog['wl_min']} <= λ <= {water.catalog['wl_max']}\")"
   ],
   "outputs": [
    {
     "output_type": "stream",
     "name": "stdout",
     "text": [
      "H2O Kedenburg\n",
      "0.5 <= λ <= 1.6\n"
     ]
    }
   ],
   "metadata": {}
  },
  {
   "cell_type": "markdown",
   "source": [
    "## Reflactive Index __n__\n",
    "```\n",
    "n(wl: ArrayLike) -> numpy.ndarray\n",
    "```\n",
    "## Extinction Coefficient __k__\n",
    "```\n",
    "k(wl: ArrayLike) -> numpy.ndarray\n",
    "```\n",
    "## Dielectric Function __eps__\n",
    "```\n",
    "eps(wl: ArrayLike) -> numpy.ndarray\n",
    "```\n",
    "Wavelengths __wl__ can be given as a single complex value or an array of complex values."
   ],
   "metadata": {}
  },
  {
   "cell_type": "code",
   "execution_count": 2,
   "source": [
    "wl = 1.0\n",
    "n = water.n(wl)\n",
    "k = water.k(wl)\n",
    "eps = water.eps(wl)\n",
    "print(f\"At λ={wl}μm:\")\n",
    "print(f\"  n={n}\")\n",
    "print(f\"  k={k}\")\n",
    "print(f\"  ε={eps}\")"
   ],
   "outputs": [
    {
     "output_type": "stream",
     "name": "stdout",
     "text": [
      "At λ=1.0μm:\n",
      "  n=1.3248733548067675\n",
      "  k=3.19106e-06\n",
      "  ε=(1.755289406266756+8.455500735179367e-06j)\n"
     ]
    }
   ],
   "metadata": {}
  },
  {
   "cell_type": "code",
   "execution_count": 3,
   "source": [
    "import numpy as np\n",
    "wls = np.linspace(0.5, 1.6)\n",
    "water.eps(wls)"
   ],
   "outputs": [
    {
     "output_type": "execute_result",
     "data": {
      "text/plain": [
       "array([1.78768541+5.06456045e-09j, 1.78467437+7.21950025e-09j,\n",
       "       1.78200425+8.99754271e-09j, 1.77961713+1.09102698e-08j,\n",
       "       1.77746656+2.03113563e-08j, 1.77551486+3.91535344e-08j,\n",
       "       1.77373123+4.47077445e-08j, 1.77209021+5.56005984e-08j,\n",
       "       1.77057063+6.46501807e-08j, 1.76915476+9.55056185e-08j,\n",
       "       1.7678276 +2.26868439e-07j, 1.76657643+4.36021486e-07j,\n",
       "       1.76539035+4.41922590e-07j, 1.76425999+3.89027525e-07j,\n",
       "       1.76317722+3.67388011e-07j, 1.76213497+6.57253550e-07j,\n",
       "       1.76112705+7.97415508e-07j, 1.76014799+9.89969106e-07j,\n",
       "       1.75919296+1.26250250e-06j, 1.75825763+2.11244636e-06j,\n",
       "       1.75733815+5.56056753e-06j, 1.75643103+9.70031959e-06j,\n",
       "       1.75553309+9.02328728e-06j, 1.75464145+6.69232642e-06j,\n",
       "       1.75375346+4.42093740e-06j, 1.75286666+3.28209305e-06j,\n",
       "       1.75197876+3.47609423e-06j, 1.75108763+4.87738786e-06j,\n",
       "       1.75019124+7.76228825e-06j, 1.74928768+2.36478431e-05j,\n",
       "       1.74837512+2.93429550e-05j, 1.74745178+3.16985983e-05j,\n",
       "       1.74651595+3.12607352e-05j, 1.74556597+2.98356487e-05j,\n",
       "       1.74460019+2.88555665e-05j, 1.74361698+3.09339742e-05j,\n",
       "       1.74261474+4.08467397e-05j, 1.74159184+6.27300492e-05j,\n",
       "       1.74054666+9.18714875e-05j, 1.73947755+1.38702502e-04j,\n",
       "       1.73838282+4.13708061e-04j, 1.73726075+7.41230462e-04j,\n",
       "       1.73610964+8.38403369e-04j, 1.73492768+8.44002149e-04j,\n",
       "       1.733713  +7.56141792e-04j, 1.73246365+6.09350408e-04j,\n",
       "       1.73117757+4.73925199e-04j, 1.72985267+3.73919563e-04j,\n",
       "       1.72848673+2.96302134e-04j, 1.72707742+2.57348869e-04j])"
      ]
     },
     "metadata": {},
     "execution_count": 3
    }
   ],
   "metadata": {}
  },
  {
   "cell_type": "markdown",
   "source": [
    "## Bound_check\n",
    "By default, __bound_check__ is set to __True__, so a ValueError is raised if the given range of wavelength exeeds the domain of experimental data."
   ],
   "metadata": {}
  },
  {
   "cell_type": "code",
   "execution_count": 4,
   "source": [
    "wls = np.linspace(1.0, 2.0)  # exeeds the domain of experimental data [wl_min, wl_max]\n",
    "water = riip.Material({'id': 428}, rid)\n",
    "try:\n",
    "    water.eps(wls)\n",
    "except ValueError as e:\n",
    "    print(\"ValueError: \", e)"
   ],
   "outputs": [
    {
     "output_type": "stream",
     "name": "stdout",
     "text": [
      "ValueError:  Wavelength [1.0 2.0] is out of bounds [0.5 1.6][um]\n"
     ]
    }
   ],
   "metadata": {}
  },
  {
   "cell_type": "markdown",
   "source": [
    "If the instance is created with _bound_check_=False, the dispersion formula is applied beyond the scope of experimental data."
   ],
   "metadata": {}
  },
  {
   "cell_type": "code",
   "execution_count": 5,
   "source": [
    "water = rid.material({'id': 428, 'bound_check': False})\n",
    "water.eps(wls)"
   ],
   "outputs": [
    {
     "output_type": "execute_result",
     "data": {
      "text/plain": [
       "array([1.75528941+8.45550074e-06j, 1.7544798 +6.22893490e-06j,\n",
       "       1.75367283+4.26892778e-06j, 1.75286666+3.28209305e-06j,\n",
       "       1.75205958+3.41188666e-06j, 1.75124999+4.57539106e-06j,\n",
       "       1.75043634+6.43134767e-06j, 1.7496172 +1.73160612e-05j,\n",
       "       1.74879115+2.79025978e-05j, 1.74795686+3.03918467e-05j,\n",
       "       1.74711301+3.16703375e-05j, 1.74625834+3.09070644e-05j,\n",
       "       1.7453916 +2.95904633e-05j, 1.74451155+2.86968989e-05j,\n",
       "       1.74361698+3.09339742e-05j, 1.74270668+3.94542665e-05j,\n",
       "       1.74177943+5.74325463e-05j, 1.74083401+8.45269696e-05j,\n",
       "       1.73986919+1.12246506e-04j, 1.73888371+2.38921633e-04j,\n",
       "       1.73787627+5.97613782e-04j, 1.73684562+7.93140670e-04j,\n",
       "       1.73579043+8.44665108e-04j, 1.73470932+8.36243635e-04j,\n",
       "       1.73360089+7.44723123e-04j, 1.73246365+6.09350408e-04j,\n",
       "       1.73129606+4.84068764e-04j, 1.73009655+3.87256134e-04j,\n",
       "       1.72886346+3.09978552e-04j, 1.72759506+2.69595315e-04j,\n",
       "       1.72628955+2.42393493e-04j, 1.72494502+2.23707734e-04j,\n",
       "       1.72355948+2.11564992e-04j, 1.72213081+2.07050164e-04j,\n",
       "       1.72065679+2.04337134e-04j, 1.71913506+2.14436168e-04j,\n",
       "       1.71756312+2.22823398e-04j, 1.71593832+2.66788134e-04j,\n",
       "       1.71425585+3.72193172e-03j, 1.71246452+1.92713886e-02j,\n",
       "       1.71025874+5.60435002e-02j, 1.7066329 +1.23145225e-01j,\n",
       "       1.69919123+2.29660129e-01j, 1.68321308+3.84646155e-01j,\n",
       "       1.65047355+5.97133116e-01j, 1.58781969+8.76119910e-01j,\n",
       "       1.47550197+1.23057138e+00j, 1.28526127+1.66941483e+00j,\n",
       "       0.97817128+2.20153602e+00j, 0.50223629+2.83577478e+00j])"
      ]
     },
     "metadata": {},
     "execution_count": 5
    }
   ],
   "metadata": {}
  },
  {
   "cell_type": "markdown",
   "source": [
    "## __plot__\n",
    "```\n",
    "plot(wls: Sequence | np.ndarray, comp: str = \"n\", fmt1: Optional[str] = \"-\", fmt2: Optional[str] = \"--\", **kwargs)\n",
    "```\n",
    "* wls (Sequence | np.ndarray): Wavelength coordinates to be plotted [μm].\n",
    "* comp (str): 'n', 'k' or 'eps'\n",
    "* fmt1 (Optional[str]): Plot format for n and Re(eps).\n",
    "* fmt2 (Optional[str]): Plot format for k and Im(eps).\n",
    "\n",
    "Plot refractive index (if set comp=\"n\"), extinction coefficient (comp=\"k\") or permittivity (comp=\"eps\")."
   ],
   "metadata": {}
  },
  {
   "cell_type": "code",
   "execution_count": 6,
   "source": [
    "import matplotlib.pyplot as plt\n",
    "water.plot(wls, \"n\")\n",
    "plt.show()\n",
    "water.plot(wls, \"k\")\n",
    "plt.show()\n",
    "water.plot(wls, \"eps\")"
   ],
   "outputs": [
    {
     "output_type": "display_data",
     "data": {
      "image/png": "[encoded data removed]",
      "text/plain": [
       "<Figure size 432x288 with 1 Axes>"
      ]
     },
     "metadata": {
      "needs_background": "light"
     }
    },
    {
     "output_type": "display_data",
     "data": {
      "image/png": "[encoded data removed]",
      "text/plain": [
       "<Figure size 432x288 with 1 Axes>"
      ]
     },
     "metadata": {
      "needs_background": "light"
     }
    },
    {
     "output_type": "display_data",
     "data": {
      "image/png": "[encoded data removed]",
      "text/plain": [
       "<Figure size 432x288 with 1 Axes>"
      ]
     },
     "metadata": {
      "needs_background": "light"
     }
    }
   ],
   "metadata": {}
  },
  {
   "cell_type": "markdown",
   "source": [
    "You can change plot style usint rcParams."
   ],
   "metadata": {}
  },
  {
   "cell_type": "code",
   "execution_count": 7,
   "source": [
    "plt.style.use('seaborn-notebook')\n",
    "plot_params = {\n",
    "    'figure.figsize': [6.0, 6.0],\n",
    "    'axes.labelsize': 'xx-large',\n",
    "    'xtick.labelsize': 'x-large',\n",
    "    'ytick.labelsize': 'x-large',\n",
    "    'legend.fontsize': 'x-large',\n",
    "}\n",
    "plt.rcParams.update(plot_params)"
   ],
   "outputs": [],
   "metadata": {}
  },
  {
   "cell_type": "code",
   "execution_count": 8,
   "source": [
    "water.plot(wls, \"n\")"
   ],
   "outputs": [
    {
     "output_type": "display_data",
     "data": {
      "image/png": "[encoded data removed]",
      "text/plain": [
       "<Figure size 432x432 with 1 Axes>"
      ]
     },
     "metadata": {
      "needs_background": "light"
     }
    }
   ],
   "metadata": {}
  },
  {
   "cell_type": "markdown",
   "source": [
    "## Water with constant RI"
   ],
   "metadata": {}
  },
  {
   "cell_type": "markdown",
   "source": [],
   "metadata": {}
  },
  {
   "cell_type": "code",
   "execution_count": 9,
   "source": [
    "import numpy as np\n",
    "from riip import Material\n",
    "water_const = Material({'RI': 1.333})\n",
    "wl = [0.5, 1.0, 1.5]\n",
    "n = water_const.n(wl)\n",
    "k = water_const.k(wl)\n",
    "eps = water_const.eps(wl)\n",
    "print(f\"At λ={wl}μm:\")\n",
    "print(f\"  n={n}\")\n",
    "print(f\"  k={k}\")\n",
    "print(f\"  ε={eps}\")"
   ],
   "outputs": [
    {
     "output_type": "stream",
     "name": "stdout",
     "text": [
      "At λ=[0.5, 1.0, 1.5]μm:\n",
      "  n=[1.333 1.333 1.333]\n",
      "  k=[0. 0. 0.]\n",
      "  ε=[1.776889+0.j 1.776889+0.j 1.776889+0.j]\n"
     ]
    }
   ],
   "metadata": {}
  },
  {
   "cell_type": "markdown",
   "source": [
    "## A definition of water in RIID"
   ],
   "metadata": {}
  },
  {
   "cell_type": "code",
   "execution_count": 10,
   "source": [
    "water = Material({\"book\": \"H2O\", \"page\": \"Kedenburg\"})\n",
    "wl = [0.5, 1.0, 1.5]\n",
    "n = water.n(wl)\n",
    "k = water.k(wl)\n",
    "eps = water.eps(wl)\n",
    "print(f\"At λ={wl} μm:\")\n",
    "print(f\"  n={n}\")\n",
    "print(f\"  k={k}\")\n",
    "print(f\"  ε={eps}\")"
   ],
   "outputs": [
    {
     "output_type": "stream",
     "name": "stdout",
     "text": [
      "At λ=[0.5, 1.0, 1.5] μm:\n",
      "  n=[1.33704353 1.32487335 1.31644826]\n",
      "  k=[1.89394e-09 3.19106e-06 2.56637e-04]\n",
      "  ε=[1.78768541+5.06456045e-09j 1.75528941+8.45550074e-06j\n",
      " 1.73303596+6.75698666e-04j]\n"
     ]
    }
   ],
   "metadata": {}
  },
  {
   "cell_type": "markdown",
   "source": [
    "## Plot them:"
   ],
   "metadata": {}
  },
  {
   "cell_type": "code",
   "execution_count": 11,
   "source": [
    "wls = np.linspace(0.6, 1.0)\n",
    "water_const.plot(wls)\n",
    "water.plot(wls)"
   ],
   "outputs": [
    {
     "output_type": "display_data",
     "data": {
      "image/png": "[encoded data removed]",
      "text/plain": [
       "<Figure size 432x432 with 1 Axes>"
      ]
     },
     "metadata": {
      "needs_background": "light"
     }
    }
   ],
   "metadata": {}
  },
  {
   "cell_type": "markdown",
   "source": [
    "## Material as a function\n",
    "```\n",
    "Material__call__(w: float | complex) -> complex\n",
    "```\n",
    "* w (float | complex): A float indicating the angular frequency\n",
    "\n",
    "It returns the complex relative permittivity at given __angular frequency w__.\n",
    "We use a unit system where the speed of light in vacuum c is 1 and the unit of length is μm.\n",
    "So w is equal to the vacuum wavenumber ω/c [rad/μm]).\n",
    "\n",
    "It is much faster than __eps__ method because the formula is accelerated using cython. In the case of same argument, it's even more faster."
   ],
   "metadata": {}
  },
  {
   "cell_type": "code",
   "execution_count": 12,
   "source": [
    "gold = Material({'book': 'Au', 'page': 'Stewart-DLF'})\n",
    "wls = [1.0, 1.5]\n",
    "ws = [2 * np.pi / wl for wl in wls]"
   ],
   "outputs": [],
   "metadata": {}
  },
  {
   "cell_type": "code",
   "execution_count": 13,
   "source": [
    "%%timeit\n",
    "for i in range(1000):\n",
    "    gold.eps(wls[i % 2])"
   ],
   "outputs": [
    {
     "output_type": "stream",
     "name": "stdout",
     "text": [
      "71.4 ms ± 4.03 ms per loop (mean ± std. dev. of 7 runs, 10 loops each)\n"
     ]
    }
   ],
   "metadata": {}
  },
  {
   "cell_type": "code",
   "execution_count": 14,
   "source": [
    "%%timeit\n",
    "for i in range(1000):\n",
    "    gold.eps(wls[0])"
   ],
   "outputs": [
    {
     "output_type": "stream",
     "name": "stdout",
     "text": [
      "68.5 ms ± 4.88 ms per loop (mean ± std. dev. of 7 runs, 10 loops each)\n"
     ]
    }
   ],
   "metadata": {}
  },
  {
   "cell_type": "code",
   "execution_count": 15,
   "source": [
    "%%timeit\n",
    "for i in range(1000):\n",
    "    gold(ws[i % 2])"
   ],
   "outputs": [
    {
     "output_type": "stream",
     "name": "stdout",
     "text": [
      "2.83 ms ± 91 µs per loop (mean ± std. dev. of 7 runs, 100 loops each)\n"
     ]
    }
   ],
   "metadata": {}
  },
  {
   "cell_type": "code",
   "execution_count": 16,
   "source": [
    "%%timeit\n",
    "for i in range(1000):\n",
    "    gold(ws[0])"
   ],
   "outputs": [
    {
     "output_type": "stream",
     "name": "stdout",
     "text": [
      "286 µs ± 15.8 µs per loop (mean ± std. dev. of 7 runs, 1000 loops each)\n"
     ]
    }
   ],
   "metadata": {}
  },
  {
   "cell_type": "markdown",
   "source": [
    "## However, Material is __not__ a numpy.ufunc"
   ],
   "metadata": {}
  },
  {
   "cell_type": "code",
   "execution_count": 17,
   "source": [
    "try:\n",
    "    gold(np.array(ws))\n",
    "except ValueError as e:\n",
    "    print(\"ValueError: \", e)"
   ],
   "outputs": [
    {
     "output_type": "stream",
     "name": "stdout",
     "text": [
      "ValueError:  The truth value of an array with more than one element is ambiguous. Use a.any() or a.all()\n"
     ]
    }
   ],
   "metadata": {}
  },
  {
   "cell_type": "markdown",
   "source": [
    "## im_factor"
   ],
   "metadata": {}
  },
  {
   "cell_type": "code",
   "execution_count": 18,
   "source": [
    "gold_low_loss = Material({'book': 'Au', 'page': 'Stewart-DLF', 'im_factor': 0.1})\n",
    "print(\"If im_factor=1.0: Im(ε)=\", gold(6.28).imag)\n",
    "print(\"If im_factor=0.1: Im(ε)=\", gold_low_loss(6.28).imag)\n",
    "\n",
    "print(\"Real parts are the same\")\n",
    "print(gold(6.28).real, gold_low_loss(6.28).real)"
   ],
   "outputs": [
    {
     "output_type": "stream",
     "name": "stdout",
     "text": [
      "If im_factor=1.0: Im(ε)= 3.3309657708104403\n",
      "If im_factor=0.1: Im(ε)= 0.33309657708104407\n",
      "Real parts are the same\n",
      "-46.60902219575364 -46.60902219575364\n"
     ]
    }
   ],
   "metadata": {}
  },
  {
   "cell_type": "markdown",
   "source": [
    "## PEC"
   ],
   "metadata": {}
  },
  {
   "cell_type": "markdown",
   "source": [],
   "metadata": {}
  },
  {
   "cell_type": "code",
   "execution_count": 19,
   "source": [
    "pec = Material({\"PEC\": True})\n",
    "print(pec.label, pec(1.0))"
   ],
   "outputs": [
    {
     "output_type": "stream",
     "name": "stdout",
     "text": [
      "PEC (-100000000+0j)\n"
     ]
    }
   ],
   "metadata": {}
  }
 ],
 "metadata": {
  "interpreter": {
   "hash": "75462e0b4f6843078abe9aa8029f284d492ae768f563621c558cda33dd55dd3c"
  },
  "kernelspec": {
   "name": "python3",
   "display_name": "Python 3.8.11 64-bit ('riip': conda)"
  },
  "language_info": {
   "codemirror_mode": {
    "name": "ipython",
    "version": 3
   },
   "file_extension": ".py",
   "mimetype": "text/x-python",
   "name": "python",
   "nbconvert_exporter": "python",
   "pygments_lexer": "ipython3",
   "version": "3.8.11"
  }
 },
 "nbformat": 4,
 "nbformat_minor": 2
}
