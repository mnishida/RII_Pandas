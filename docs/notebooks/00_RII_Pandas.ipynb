{
 "cells": [
  {
   "cell_type": "markdown",
   "source": [
    "# RII_Pandas\n",
    "\n",
    "RII_Pandas is Python 3 + [Pandas](https://pandas.pydata.org/)  wrapper for the [refractiveindex.info database](http://refractiveindex.info/) developed by [Mikhail Polyanskiy](https://github.com/polyanskiy).\n",
    "It provides Pandas DataFrames for the catalog and experimental data stored in refractiveindex.info database based on the method of `dboperations.py` from [refractiveindex.info-sqlite package](https://github.com/HugoGuillen/refractiveindex.info-sqlite) developed by [Hugo Guillén](https://github.com/HugoGuillen). This package will make it easy to access dielectric properties of various materials in a Python framework. \n",
    "\n",
    "### Features\n",
    "- Create Pandas DataFrame by parsing database files cloned from Polyanskiy's  [GitHub repository](https://github.com/polyanskiy/refractiveindex.info-database).\n",
    "- Drude-Lorentz model (formula 21) and Brendel-Bormann model (formula 22) are available to describe metallic dielectric function."
   ],
   "metadata": {}
  },
  {
   "cell_type": "markdown",
   "source": [
    "## Installation\n",
    "### Install and update using pip\n",
    "```\n",
    "$ pip install -U riip\n",
    "```\n",
    "### Install using conda\n",
    "```\n",
    "$ conda install -c mnishida riip\n",
    "```\n"
   ],
   "metadata": {}
  },
  {
   "cell_type": "markdown",
   "source": [],
   "metadata": {}
  }
 ],
 "metadata": {
  "interpreter": {
   "hash": "75462e0b4f6843078abe9aa8029f284d492ae768f563621c558cda33dd55dd3c"
  },
  "kernelspec": {
   "name": "python3",
   "display_name": "Python 3.8.11 64-bit ('riip': conda)"
  },
  "language_info": {
   "codemirror_mode": {
    "name": "ipython",
    "version": 3
   },
   "file_extension": ".py",
   "mimetype": "text/x-python",
   "name": "python",
   "nbconvert_exporter": "python",
   "pygments_lexer": "ipython3",
   "version": "3.8.11"
  }
 },
 "nbformat": 4,
 "nbformat_minor": 2
}
