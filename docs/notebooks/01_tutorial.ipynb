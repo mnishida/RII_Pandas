{
 "cells": [
  {
   "cell_type": "markdown",
   "source": [
    "# Tutorial\n",
    "Let's start your survay of dielectric properties of various materials. The first thing you must do is to create a RiiDataFrame oject. The first trial will take a few minutes, because experimental data will be pulled down from Polyanskiy's [refractiveindex.info database](https://github.com/polyanskiy/refractiveindex.info-database) and equi-spaced grid data will be obtained by interpolating the experimental data."
   ],
   "metadata": {}
  },
  {
   "cell_type": "code",
   "execution_count": 1,
   "source": [
    "import riip\n",
    "ri = riip.RiiDataFrame()"
   ],
   "outputs": [
    {
     "output_type": "stream",
     "name": "stderr",
     "text": [
      "Catalog file not found.\n",
      "Cloning Repository...\n",
      "Done.\n",
      "Creating catalog file...\n",
      "Done.\n",
      "Creating raw data file...\n",
      "Done.\n",
      "Updating grid data file...\n",
      "Done.\n"
     ]
    }
   ],
   "metadata": {}
  },
  {
   "cell_type": "markdown",
   "source": [
    "You can use some helper methods for your survay.\n"
   ],
   "metadata": {}
  },
  {
   "cell_type": "markdown",
   "source": [
    "## __search__\n",
    "```\n",
    "search(name: str) -> DataFrame\n",
    "```\n",
    "This method searches data that contain given __name__ of material and return a catalog for them."
   ],
   "metadata": {}
  },
  {
   "cell_type": "code",
   "execution_count": 2,
   "source": [
    "ri.search(\"NaCl\")"
   ],
   "outputs": [
    {
     "output_type": "execute_result",
     "data": {
      "text/html": [
       "<div>\n",
       "<style scoped>\n",
       "    .dataframe tbody tr th:only-of-type {\n",
       "        vertical-align: middle;\n",
       "    }\n",
       "\n",
       "    .dataframe tbody tr th {\n",
       "        vertical-align: top;\n",
       "    }\n",
       "\n",
       "    .dataframe thead th {\n",
       "        text-align: right;\n",
       "    }\n",
       "</style>\n",
       "<table border=\"1\" class=\"dataframe\">\n",
       "  <thead>\n",
       "    <tr style=\"text-align: right;\">\n",
       "      <th></th>\n",
       "      <th>book</th>\n",
       "      <th>section</th>\n",
       "      <th>page</th>\n",
       "      <th>formula</th>\n",
       "      <th>tabulated</th>\n",
       "      <th>wl_min</th>\n",
       "      <th>wl_max</th>\n",
       "    </tr>\n",
       "    <tr>\n",
       "      <th>id</th>\n",
       "      <th></th>\n",
       "      <th></th>\n",
       "      <th></th>\n",
       "      <th></th>\n",
       "      <th></th>\n",
       "      <th></th>\n",
       "      <th></th>\n",
       "    </tr>\n",
       "  </thead>\n",
       "  <tbody>\n",
       "    <tr>\n",
       "      <th>182</th>\n",
       "      <td>NaCl</td>\n",
       "      <td></td>\n",
       "      <td>Li</td>\n",
       "      <td>1</td>\n",
       "      <td>f</td>\n",
       "      <td>0.20</td>\n",
       "      <td>30.0000</td>\n",
       "    </tr>\n",
       "    <tr>\n",
       "      <th>183</th>\n",
       "      <td>NaCl</td>\n",
       "      <td></td>\n",
       "      <td>Querry</td>\n",
       "      <td>0</td>\n",
       "      <td>nk</td>\n",
       "      <td>0.22</td>\n",
       "      <td>166.6667</td>\n",
       "    </tr>\n",
       "  </tbody>\n",
       "</table>\n",
       "</div>"
      ],
      "text/plain": [
       "     book section    page formula tabulated  wl_min    wl_max\n",
       "id                                                           \n",
       "182  NaCl              Li       1         f    0.20   30.0000\n",
       "183  NaCl          Querry       0        nk    0.22  166.6667"
      ]
     },
     "metadata": {},
     "execution_count": 2
    }
   ],
   "metadata": {}
  },
  {
   "cell_type": "code",
   "execution_count": 3,
   "source": [
    "ri.search(\"sodium\").head(5) # upper or lower case is not significant"
   ],
   "outputs": [
    {
     "output_type": "execute_result",
     "data": {
      "text/html": [
       "<div>\n",
       "<style scoped>\n",
       "    .dataframe tbody tr th:only-of-type {\n",
       "        vertical-align: middle;\n",
       "    }\n",
       "\n",
       "    .dataframe tbody tr th {\n",
       "        vertical-align: top;\n",
       "    }\n",
       "\n",
       "    .dataframe thead th {\n",
       "        text-align: right;\n",
       "    }\n",
       "</style>\n",
       "<table border=\"1\" class=\"dataframe\">\n",
       "  <thead>\n",
       "    <tr style=\"text-align: right;\">\n",
       "      <th></th>\n",
       "      <th>book</th>\n",
       "      <th>section</th>\n",
       "      <th>page</th>\n",
       "      <th>formula</th>\n",
       "      <th>tabulated</th>\n",
       "      <th>wl_min</th>\n",
       "      <th>wl_max</th>\n",
       "    </tr>\n",
       "    <tr>\n",
       "      <th>id</th>\n",
       "      <th></th>\n",
       "      <th></th>\n",
       "      <th></th>\n",
       "      <th></th>\n",
       "      <th></th>\n",
       "      <th></th>\n",
       "      <th></th>\n",
       "    </tr>\n",
       "  </thead>\n",
       "  <tbody>\n",
       "    <tr>\n",
       "      <th>127</th>\n",
       "      <td>NaBr</td>\n",
       "      <td></td>\n",
       "      <td>Li</td>\n",
       "      <td>1</td>\n",
       "      <td>f</td>\n",
       "      <td>0.210</td>\n",
       "      <td>34.0000</td>\n",
       "    </tr>\n",
       "    <tr>\n",
       "      <th>182</th>\n",
       "      <td>NaCl</td>\n",
       "      <td></td>\n",
       "      <td>Li</td>\n",
       "      <td>1</td>\n",
       "      <td>f</td>\n",
       "      <td>0.200</td>\n",
       "      <td>30.0000</td>\n",
       "    </tr>\n",
       "    <tr>\n",
       "      <th>183</th>\n",
       "      <td>NaCl</td>\n",
       "      <td></td>\n",
       "      <td>Querry</td>\n",
       "      <td>0</td>\n",
       "      <td>nk</td>\n",
       "      <td>0.220</td>\n",
       "      <td>166.6667</td>\n",
       "    </tr>\n",
       "    <tr>\n",
       "      <th>229</th>\n",
       "      <td>NaF</td>\n",
       "      <td></td>\n",
       "      <td>Li</td>\n",
       "      <td>1</td>\n",
       "      <td>f</td>\n",
       "      <td>0.150</td>\n",
       "      <td>17.0000</td>\n",
       "    </tr>\n",
       "    <tr>\n",
       "      <th>295</th>\n",
       "      <td>NaI</td>\n",
       "      <td></td>\n",
       "      <td>Jellison</td>\n",
       "      <td>1</td>\n",
       "      <td>f</td>\n",
       "      <td>0.436</td>\n",
       "      <td>0.6330</td>\n",
       "    </tr>\n",
       "  </tbody>\n",
       "</table>\n",
       "</div>"
      ],
      "text/plain": [
       "     book section      page formula tabulated  wl_min    wl_max\n",
       "id                                                             \n",
       "127  NaBr                Li       1         f   0.210   34.0000\n",
       "182  NaCl                Li       1         f   0.200   30.0000\n",
       "183  NaCl            Querry       0        nk   0.220  166.6667\n",
       "229   NaF                Li       1         f   0.150   17.0000\n",
       "295   NaI          Jellison       1         f   0.436    0.6330"
      ]
     },
     "metadata": {},
     "execution_count": 3
    }
   ],
   "metadata": {}
  },
  {
   "cell_type": "markdown",
   "source": [
    "## __select__\n",
    "```\n",
    "select(condition: str) -> DataFrame\n",
    "```\n",
    "This method make a query with the given __condition__ and return a catalog.  For example, if you want to find a material whose refractive index n is in a range 2.5 < n < 3 somewhere in the wavelength range 0.4&mu;m < wl < 0.8&mu;m:"
   ],
   "metadata": {}
  },
  {
   "cell_type": "code",
   "execution_count": 4,
   "source": [
    "ri.select(\"2.5 < n < 3 and 0.4 < wl < 0.8\").head(5)"
   ],
   "outputs": [
    {
     "output_type": "execute_result",
     "data": {
      "text/html": [
       "<div>\n",
       "<style scoped>\n",
       "    .dataframe tbody tr th:only-of-type {\n",
       "        vertical-align: middle;\n",
       "    }\n",
       "\n",
       "    .dataframe tbody tr th {\n",
       "        vertical-align: top;\n",
       "    }\n",
       "\n",
       "    .dataframe thead th {\n",
       "        text-align: right;\n",
       "    }\n",
       "</style>\n",
       "<table border=\"1\" class=\"dataframe\">\n",
       "  <thead>\n",
       "    <tr style=\"text-align: right;\">\n",
       "      <th></th>\n",
       "      <th>book</th>\n",
       "      <th>section</th>\n",
       "      <th>page</th>\n",
       "      <th>formula</th>\n",
       "      <th>tabulated</th>\n",
       "      <th>wl_min</th>\n",
       "      <th>wl_max</th>\n",
       "    </tr>\n",
       "    <tr>\n",
       "      <th>id</th>\n",
       "      <th></th>\n",
       "      <th></th>\n",
       "      <th></th>\n",
       "      <th></th>\n",
       "      <th></th>\n",
       "      <th></th>\n",
       "      <th></th>\n",
       "    </tr>\n",
       "  </thead>\n",
       "  <tbody>\n",
       "    <tr>\n",
       "      <th>23</th>\n",
       "      <td>Al</td>\n",
       "      <td>Experimental data</td>\n",
       "      <td>Mathewson</td>\n",
       "      <td>0</td>\n",
       "      <td>nk</td>\n",
       "      <td>0.495940</td>\n",
       "      <td>1.771200</td>\n",
       "    </tr>\n",
       "    <tr>\n",
       "      <th>118</th>\n",
       "      <td>Bi</td>\n",
       "      <td>Experimental data</td>\n",
       "      <td>Hagemann</td>\n",
       "      <td>0</td>\n",
       "      <td>nk</td>\n",
       "      <td>0.000002</td>\n",
       "      <td>6.199000</td>\n",
       "    </tr>\n",
       "    <tr>\n",
       "      <th>129</th>\n",
       "      <td>TlBr</td>\n",
       "      <td></td>\n",
       "      <td>Palik</td>\n",
       "      <td>1</td>\n",
       "      <td>f</td>\n",
       "      <td>0.570000</td>\n",
       "      <td>39.400000</td>\n",
       "    </tr>\n",
       "    <tr>\n",
       "      <th>135</th>\n",
       "      <td>C</td>\n",
       "      <td>Amorphous thin film</td>\n",
       "      <td>Larruquert</td>\n",
       "      <td>0</td>\n",
       "      <td>nk</td>\n",
       "      <td>0.019656</td>\n",
       "      <td>10.079189</td>\n",
       "    </tr>\n",
       "    <tr>\n",
       "      <th>137</th>\n",
       "      <td>C</td>\n",
       "      <td>Graphite</td>\n",
       "      <td>Djurisic-o</td>\n",
       "      <td>0</td>\n",
       "      <td>nk</td>\n",
       "      <td>0.030996</td>\n",
       "      <td>10.332000</td>\n",
       "    </tr>\n",
       "  </tbody>\n",
       "</table>\n",
       "</div>"
      ],
      "text/plain": [
       "     book              section        page formula tabulated    wl_min  \\\n",
       "id                                                                       \n",
       "23     Al    Experimental data   Mathewson       0        nk  0.495940   \n",
       "118    Bi    Experimental data    Hagemann       0        nk  0.000002   \n",
       "129  TlBr                            Palik       1         f  0.570000   \n",
       "135     C  Amorphous thin film  Larruquert       0        nk  0.019656   \n",
       "137     C             Graphite  Djurisic-o       0        nk  0.030996   \n",
       "\n",
       "        wl_max  \n",
       "id              \n",
       "23    1.771200  \n",
       "118   6.199000  \n",
       "129  39.400000  \n",
       "135  10.079189  \n",
       "137  10.332000  "
      ]
     },
     "metadata": {},
     "execution_count": 4
    }
   ],
   "metadata": {}
  },
  {
   "cell_type": "markdown",
   "source": [
    "## __show__\n",
    "```\n",
    "show(ids: int | Sequence[int]) -> DataFrame\n",
    "```\n",
    "This method shows the catalog for given __ids__."
   ],
   "metadata": {}
  },
  {
   "cell_type": "code",
   "execution_count": 5,
   "source": [
    "ri.show([23, 118])"
   ],
   "outputs": [
    {
     "output_type": "execute_result",
     "data": {
      "text/html": [
       "<div>\n",
       "<style scoped>\n",
       "    .dataframe tbody tr th:only-of-type {\n",
       "        vertical-align: middle;\n",
       "    }\n",
       "\n",
       "    .dataframe tbody tr th {\n",
       "        vertical-align: top;\n",
       "    }\n",
       "\n",
       "    .dataframe thead th {\n",
       "        text-align: right;\n",
       "    }\n",
       "</style>\n",
       "<table border=\"1\" class=\"dataframe\">\n",
       "  <thead>\n",
       "    <tr style=\"text-align: right;\">\n",
       "      <th></th>\n",
       "      <th>book</th>\n",
       "      <th>section</th>\n",
       "      <th>page</th>\n",
       "      <th>formula</th>\n",
       "      <th>tabulated</th>\n",
       "      <th>wl_min</th>\n",
       "      <th>wl_max</th>\n",
       "    </tr>\n",
       "    <tr>\n",
       "      <th>id</th>\n",
       "      <th></th>\n",
       "      <th></th>\n",
       "      <th></th>\n",
       "      <th></th>\n",
       "      <th></th>\n",
       "      <th></th>\n",
       "      <th></th>\n",
       "    </tr>\n",
       "  </thead>\n",
       "  <tbody>\n",
       "    <tr>\n",
       "      <th>23</th>\n",
       "      <td>Al</td>\n",
       "      <td>Experimental data</td>\n",
       "      <td>Mathewson</td>\n",
       "      <td>0</td>\n",
       "      <td>nk</td>\n",
       "      <td>0.495940</td>\n",
       "      <td>1.7712</td>\n",
       "    </tr>\n",
       "    <tr>\n",
       "      <th>118</th>\n",
       "      <td>Bi</td>\n",
       "      <td>Experimental data</td>\n",
       "      <td>Hagemann</td>\n",
       "      <td>0</td>\n",
       "      <td>nk</td>\n",
       "      <td>0.000002</td>\n",
       "      <td>6.1990</td>\n",
       "    </tr>\n",
       "  </tbody>\n",
       "</table>\n",
       "</div>"
      ],
      "text/plain": [
       "    book            section       page formula tabulated    wl_min  wl_max\n",
       "id                                                                        \n",
       "23    Al  Experimental data  Mathewson       0        nk  0.495940  1.7712\n",
       "118   Bi  Experimental data   Hagemann       0        nk  0.000002  6.1990"
      ]
     },
     "metadata": {},
     "execution_count": 5
    }
   ],
   "metadata": {}
  },
  {
   "cell_type": "markdown",
   "source": [
    "## __read__\n",
    "```\n",
    "read(id, as_dict=False)\n",
    "```\n",
    "This method returns the contants of a page associated with the id."
   ],
   "metadata": {}
  },
  {
   "cell_type": "code",
   "execution_count": 6,
   "source": [
    "print(ri.read(23))"
   ],
   "outputs": [
    {
     "output_type": "stream",
     "name": "stdout",
     "text": [
      "# this file is part of refractiveindex.info database\n",
      "# refractiveindex.info database is in the public domain\n",
      "# copyright and related rights waived via CC0 1.0\n",
      "\n",
      "REFERENCES: \"A. G. Mathewson and H. P. Myers. Absolute values of the optical constants of some pure metals, <a href=\\\"https://doi.org/10.1088/0031-8949/4/6/009\\\"><i>Phys. Scr.</i> <b>4</b>, 291-292 (1971)</a>\"\n",
      "COMMENTS: \"298 K (24.85 °C)\"\n",
      "DATA:\n",
      "  - type: tabulated nk\n",
      "    data: |\n",
      "        0.49594 0.77909 5.84012\n",
      "        0.50606 0.81783 5.93033\n",
      "        0.51660 0.85227 6.10134\n",
      "        0.52759 0.89107 6.22848\n",
      "        0.53906 0.94408 6.35541\n",
      "        0.55104 1.00461 6.51991\n",
      "        0.56356 1.06864 6.64394\n",
      "        0.57667 1.14503 6.76839\n",
      "        0.59040 1.21981 6.92733\n",
      "        0.60480 1.30548 7.08550\n",
      "        0.61992 1.40111 7.20855\n",
      "        0.63582 1.50675 7.36684\n",
      "        0.65255 1.62810 7.49338\n",
      "        0.67018 1.77579 7.65855\n",
      "        0.68880 1.94186 7.82757\n",
      "        0.70848 2.13059 8.00246\n",
      "        0.72932 2.33676 8.15233\n",
      "        0.75142 2.57452 8.25398\n",
      "        0.77490 2.87316 8.23135\n",
      "        0.79990 3.03948 8.07703\n",
      "        0.82656 2.93996 7.75521\n",
      "        0.85506 2.52983 7.60921\n",
      "        0.88560 2.13552 7.74987\n",
      "        0.91840 1.81758 8.14270\n",
      "        0.95372 1.57683 8.68829\n",
      "        0.99187 1.41421 9.19239\n",
      "        1.03320 1.31513 9.73291\n",
      "        1.07812 1.24965 10.32287\n",
      "        1.12713 1.22635 10.88595\n",
      "        1.18080 1.22466 11.55421\n",
      "        1.23984 1.25115 12.18874\n",
      "        1.30510 1.29739 12.91059\n",
      "        1.37760 1.34628 13.70447\n",
      "        1.45864 1.42835 14.52722\n",
      "        1.54980 1.50000 15.50000\n",
      "        1.65312 1.58999 16.47811\n",
      "        1.77120 1.75488 17.75048\n",
      "SPECS:\n",
      "    n_absolute: true\n",
      "    wavelength_vacuum: true\n",
      "    temperature: 298 K\n",
      "\n"
     ]
    }
   ],
   "metadata": {}
  },
  {
   "cell_type": "markdown",
   "source": [
    "## __references__\n",
    "```\n",
    "references(id: int)\n",
    "```\n",
    "This method returns the REFERENCES of a page associated with the id."
   ],
   "metadata": {}
  },
  {
   "cell_type": "code",
   "execution_count": 7,
   "source": [
    "ri.references(23)"
   ],
   "outputs": [
    {
     "output_type": "execute_result",
     "data": {
      "text/html": [
       "A. G. Mathewson and H. P. Myers. Absolute values of the optical constants of some pure metals, <a href=\"https://doi.org/10.1088/0031-8949/4/6/009\"><i>Phys. Scr.</i> <b>4</b>, 291-292 (1971)</a>"
      ],
      "text/plain": [
       "<IPython.core.display.HTML object>"
      ]
     },
     "metadata": {},
     "execution_count": 7
    }
   ],
   "metadata": {}
  },
  {
   "cell_type": "markdown",
   "source": [
    "## __plot__\n",
    "```\n",
    "plot(id: int, comp: str = \"n\", fmt1: str = \"-\", fmt2: str = \"--\", **kwargs)\n",
    "```\n",
    "* id: ID number\n",
    "* comp: 'n', 'k' or 'eps'\n",
    "* fmt1 (Union[str, None]): Plot format for n and Re(eps), such as \"-\", \"--\", \":\", etc.\n",
    "* fmt2 (Union[str, None]): Plot format for k and Im(eps).\n",
    "\n",
    "This plot uses 200 data points only. If you want more fine plots, use __plot__ method of __RiiMaterial__ explained below. "
   ],
   "metadata": {}
  },
  {
   "cell_type": "code",
   "execution_count": 8,
   "source": [
    "ri.plot(23, \"n\")"
   ],
   "outputs": [
    {
     "output_type": "display_data",
     "data": {
      "image/png": "[encoded data removed]",
      "text/plain": [
       "<Figure size 432x288 with 1 Axes>"
      ]
     },
     "metadata": {
      "needs_background": "light"
     }
    }
   ],
   "metadata": {}
  },
  {
   "cell_type": "code",
   "execution_count": 9,
   "source": [
    "ri.plot(23, \"k\")"
   ],
   "outputs": [
    {
     "output_type": "display_data",
     "data": {
      "image/png": "[encoded data removed]",
      "text/plain": [
       "<Figure size 432x288 with 1 Axes>"
      ]
     },
     "metadata": {
      "needs_background": "light"
     }
    }
   ],
   "metadata": {}
  },
  {
   "cell_type": "code",
   "execution_count": 10,
   "source": [
    "ri.plot(23, \"eps\")"
   ],
   "outputs": [
    {
     "output_type": "display_data",
     "data": {
      "image/png": "[encoded data removed]",
      "text/plain": [
       "<Figure size 432x288 with 1 Axes>"
      ]
     },
     "metadata": {
      "needs_background": "light"
     }
    }
   ],
   "metadata": {}
  },
  {
   "cell_type": "markdown",
   "source": [
    "## __material__\n",
    "```\n",
    "material(params: dict) -> Material\n",
    "```\n",
    "This method returns __Material__-class instance for given parameter dict __params__.\n",
    "\n",
    "__params__ can includes the following parameters,\n",
    "* 'id': ID number. (int)\n",
    "* 'book': book value in catalog of RiiDataFrame. (str)\n",
    "* 'page': page value in catalog of RiiDataFrame. (str)\n",
    "* 'RI': Constant refractive index. (complex)\n",
    "* 'e': Constant permittivity. (complex)\n",
    "* 'bound_check': True if bound check should be done. Defaults to True. (bool)\n",
    "* 'im_factor': A magnification factor multiplied to the imaginary part of permittivity. Defaults to 1.0. (float)\n"
   ],
   "metadata": {}
  },
  {
   "cell_type": "code",
   "execution_count": 11,
   "source": [
    "Al = ri.material({'id': 23})\n",
    "type(Al)"
   ],
   "outputs": [
    {
     "output_type": "execute_result",
     "data": {
      "text/plain": [
       "riip.material.Material"
      ]
     },
     "metadata": {},
     "execution_count": 11
    }
   ],
   "metadata": {}
  },
  {
   "cell_type": "markdown",
   "source": [
    "Using the created Material object, you can get refractive index n, extinction coefficient k, and dielectric function eps, and plot them.\n",
    "### __Material.n__\n",
    "```\n",
    "n(wl: ArrayLike) -> ArrayLike\n",
    "```"
   ],
   "metadata": {}
  },
  {
   "cell_type": "code",
   "execution_count": 12,
   "source": [
    "Al.n(1.0)  # refractive index at wavelength = 1.0μm"
   ],
   "outputs": [
    {
     "output_type": "execute_result",
     "data": {
      "text/plain": [
       "1.3899282542977849"
      ]
     },
     "metadata": {},
     "execution_count": 12
    }
   ],
   "metadata": {}
  },
  {
   "cell_type": "markdown",
   "source": [
    "### __Material.k__\n",
    "```\n",
    "k(wl: ArrayLikey) -> ArrayLike\n",
    "```"
   ],
   "metadata": {}
  },
  {
   "cell_type": "code",
   "execution_count": 13,
   "source": [
    "Al.k(1.0)  # extinction coeficient at wavelength = 1.0μm"
   ],
   "outputs": [
    {
     "output_type": "execute_result",
     "data": {
      "text/plain": [
       "9.29612443028388"
      ]
     },
     "metadata": {},
     "execution_count": 13
    }
   ],
   "metadata": {}
  },
  {
   "cell_type": "markdown",
   "source": [
    "### __Material.eps__\n",
    "```\n",
    "eps(wl: ArrayLike) -> ArrayLike\n",
    "```"
   ],
   "metadata": {}
  },
  {
   "cell_type": "code",
   "execution_count": 14,
   "source": [
    "Al.eps(1.0)  # permittivity at wavelength = 1.0μm"
   ],
   "outputs": [
    {
     "output_type": "execute_result",
     "data": {
      "text/plain": [
       "(-84.48602887122551+25.84189200223893j)"
      ]
     },
     "metadata": {},
     "execution_count": 14
    }
   ],
   "metadata": {}
  },
  {
   "cell_type": "markdown",
   "source": [
    "Wavelengths __wl__ can be a single complex value or an array of complex values."
   ],
   "metadata": {}
  },
  {
   "cell_type": "code",
   "execution_count": 15,
   "source": [
    "import numpy as np\n",
    "wls = np.linspace(0.5, 1.6)\n",
    "Al.eps(wls)"
   ],
   "outputs": [
    {
     "output_type": "execute_result",
     "data": {
      "text/plain": [
       "array([ -33.67756077 +9.32237639j,  -37.37099091+10.76642941j,\n",
       "        -40.48007076+12.53258237j,  -43.40382102+14.56069085j,\n",
       "        -46.40772695+16.83596896j,  -49.24177749+19.32450842j,\n",
       "        -51.87203854+22.05584598j,  -53.97258292+25.08305181j,\n",
       "        -56.53596324+28.78875995j,  -58.88350388+32.86521087j,\n",
       "        -60.71385987+37.1741283j ,  -61.57228729+41.55945809j,\n",
       "        -60.12911702+46.32015037j,  -57.30534918+49.05004179j,\n",
       "        -53.3025562 +47.83949057j,  -50.89837648+43.14679491j,\n",
       "        -51.84632276+37.58238573j,  -54.80097964+33.65174018j,\n",
       "        -59.37975454+30.91365925j,  -65.24676207+28.98346003j,\n",
       "        -71.68601924+27.6368441j ,  -77.56359077+26.62565318j,\n",
       "        -82.98698417+25.95615477j,  -88.58984464+25.65838341j,\n",
       "        -94.49488142+25.59806765j, -100.57222728+25.6620527j ,\n",
       "       -106.3896107 +25.86504049j, -111.80012917+26.22868897j,\n",
       "       -117.37650002+26.73629885j, -123.56896814+27.35630896j,\n",
       "       -129.97026563+28.05783746j, -135.99407702+28.81629758j,\n",
       "       -141.62435872+29.63680412j, -147.25028441+30.54125595j,\n",
       "       -153.19700042+31.53811566j, -159.4443053 +32.58896426j,\n",
       "       -165.88659102+33.64199735j, -172.41898046+34.66687562j,\n",
       "       -178.95505801+35.7002317j , -185.40696369+36.7933805j ,\n",
       "       -191.7123965 +37.98898528j, -197.97226367+39.26611951j,\n",
       "       -204.35066317+40.57994135j, -211.02107129+41.88287652j,\n",
       "       -218.04602584+43.14590685j, -225.27973828+44.37584349j,\n",
       "       -232.54532389+45.58404429j, -239.65527993+46.78308758j,\n",
       "       -246.5066451 +47.9890921j , -253.186526  +49.22401988j])"
      ]
     },
     "metadata": {},
     "execution_count": 15
    }
   ],
   "metadata": {}
  },
  {
   "cell_type": "markdown",
   "source": [
    "\n",
    "### __Material.plot__\n",
    "```\n",
    "plot(wls: np.ndarray, comp: str = \"n\", fmt1: str = \"-\", fmt2: str = \"--\", **kwargs)\n",
    "```\n",
    "* wls: Wavelength [μm].\n",
    "* comp: 'n', 'k' or 'eps'\n",
    "* fmt1 (Union[str, None]): Plot format for n and Re(eps), such as \"-\", \"--\", \":\", etc.\n",
    "* fmt2 (Union[str, None]): Plot format for k and Im(eps)."
   ],
   "metadata": {}
  },
  {
   "cell_type": "code",
   "execution_count": 16,
   "source": [
    "import matplotlib.pyplot as plt\n",
    "wls = np.linspace(0.5, 1.0)\n",
    "Al.plot(wls, \"n\")\n",
    "plt.show()\n",
    "Al.plot(wls, \"k\")\n",
    "plt.show()\n",
    "Al.plot(wls, \"eps\")\n",
    "plt.show()\n"
   ],
   "outputs": [
    {
     "output_type": "display_data",
     "data": {
      "image/png": "[encoded data removed]",
      "text/plain": [
       "<Figure size 432x288 with 1 Axes>"
      ]
     },
     "metadata": {
      "needs_background": "light"
     }
    },
    {
     "output_type": "display_data",
     "data": {
      "image/png": "[encoded data removed]",
      "text/plain": [
       "<Figure size 432x288 with 1 Axes>"
      ]
     },
     "metadata": {
      "needs_background": "light"
     }
    },
    {
     "output_type": "display_data",
     "data": {
      "image/png": "[encoded data removed]",
      "text/plain": [
       "<Figure size 432x288 with 1 Axes>"
      ]
     },
     "metadata": {
      "needs_background": "light"
     }
    }
   ],
   "metadata": {}
  },
  {
   "cell_type": "code",
   "execution_count": null,
   "source": [],
   "outputs": [],
   "metadata": {}
  }
 ],
 "metadata": {
  "interpreter": {
   "hash": "75462e0b4f6843078abe9aa8029f284d492ae768f563621c558cda33dd55dd3c"
  },
  "kernelspec": {
   "name": "python3",
   "display_name": "Python 3.8.11 64-bit ('riip': conda)"
  },
  "language_info": {
   "codemirror_mode": {
    "name": "ipython",
    "version": 3
   },
   "file_extension": ".py",
   "mimetype": "text/x-python",
   "name": "python",
   "nbconvert_exporter": "python",
   "pygments_lexer": "ipython3",
   "version": "3.8.11"
  }
 },
 "nbformat": 4,
 "nbformat_minor": 2
}
